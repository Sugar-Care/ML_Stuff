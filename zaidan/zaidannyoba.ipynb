{
  "nbformat": 4,
  "nbformat_minor": 0,
  "metadata": {
    "colab": {
      "provenance": []
    },
    "kernelspec": {
      "name": "python3",
      "display_name": "Python 3"
    },
    "language_info": {
      "name": "python"
    }
  },
  "cells": [
    {
      "cell_type": "code",
      "execution_count": 120,
      "metadata": {
        "id": "jyO3cb2PvCr_"
      },
      "outputs": [],
      "source": [
        "import pandas as pd\n",
        "import numpy as np\n",
        "import tensorflow as tf\n",
        "from sklearn.model_selection import train_test_split\n",
        "from sklearn.preprocessing import LabelEncoder\n",
        "from imblearn.over_sampling import RandomOverSampler\n",
        "from sklearn.utils.class_weight import compute_class_weight"
      ]
    },
    {
      "cell_type": "code",
      "source": [
        "df1=pd.read_csv('/content/dataset_diabetes_1.csv')\n",
        "df2=pd.read_csv('/content/dataset_diabetes_2.csv')\n",
        "df= pd.concat([df1, df2], ignore_index=True)\n",
        "X = df[['Age', 'Blood Glucose Levels', 'Blood Pressure', 'Weight Gain During Pregnancy',\n",
        "        'Waist Circumference', 'BMI', 'Insulin Levels', 'Cholesterol Levels',\n",
        "        'Digestive Enzyme Levels', 'Pulmonary Function']]\n",
        "y = df['Target']\n",
        "# Split data into training and temporary sets (80% train, 20% temp)\n",
        "X_train, X_temp, y_train, y_temp = train_test_split(X, y, test_size=0.2, random_state=42) #random_state for reproducibility\n",
        "\n",
        "# Split the temporary set into validation and testing sets (50% validation, 50% test)\n",
        "X_val, X_test, y_val, y_test = train_test_split(X_temp, y_temp, test_size=0.5, random_state=42)\n",
        "\n",
        "# Now you have:\n",
        "print(len(X_train), len(y_train))\n",
        "print(len(X_val), len(y_val))\n",
        "print(len(X_test), len(y_test))"
      ],
      "metadata": {
        "colab": {
          "base_uri": "https://localhost:8080/"
        },
        "id": "AILmX_fR9Z3T",
        "outputId": "c678b5de-68bb-4307-a33e-6c95637a0600"
      },
      "execution_count": 113,
      "outputs": [
        {
          "output_type": "stream",
          "name": "stdout",
          "text": [
            "96355 96355\n",
            "12044 12044\n",
            "12045 12045\n"
          ]
        }
      ]
    },
    {
      "cell_type": "code",
      "source": [
        "X = X.fillna(X.median())\n",
        "print(X.shape)\n",
        "print(X.isnull().sum().sum())  # Harus 0"
      ],
      "metadata": {
        "id": "kks2H6x9IxlK",
        "colab": {
          "base_uri": "https://localhost:8080/"
        },
        "outputId": "7b80f515-4433-4cd4-bd02-f46ade1efa68"
      },
      "execution_count": 114,
      "outputs": [
        {
          "output_type": "stream",
          "name": "stdout",
          "text": [
            "(120444, 10)\n",
            "0\n"
          ]
        }
      ]
    },
    {
      "cell_type": "code",
      "source": [
        "scaler = StandardScaler()\n",
        "X = scaler.fit_transform(X)\n",
        "encoder = LabelEncoder()\n",
        "y = encoder.fit_transform(y)"
      ],
      "metadata": {
        "id": "nALlTq8oJEZL"
      },
      "execution_count": 121,
      "outputs": []
    },
    {
      "cell_type": "code",
      "source": [
        "# Split data into training and temporary sets (80% train, 20% temp)\n",
        "X_train, X_temp, y_train, y_temp = train_test_split(X, y, test_size=0.2, random_state=42)\n",
        "\n",
        "# Split the temporary set into validation and testing sets (50% validation, 50% test)\n",
        "X_val, X_test, y_val, y_test = train_test_split(X_temp, y_temp, test_size=0.5, random_state=42)\n",
        "\n",
        "# Validasi ukuran data\n",
        "print(\"Train size:\", len(X_train), len(y_train))\n",
        "print(\"Validation size:\", len(X_val), len(y_val))\n",
        "print(\"Test size:\", len(X_test), len(y_test))\n"
      ],
      "metadata": {
        "colab": {
          "base_uri": "https://localhost:8080/"
        },
        "id": "GCEJir9DJL4L",
        "outputId": "54e35445-7e57-4123-e7d6-8a31dc9787fb"
      },
      "execution_count": 122,
      "outputs": [
        {
          "output_type": "stream",
          "name": "stdout",
          "text": [
            "Train size: 96355 96355\n",
            "Validation size: 12044 12044\n",
            "Test size: 12045 12045\n"
          ]
        }
      ]
    },
    {
      "cell_type": "code",
      "source": [
        "# Lakukan oversampling pada data latih\n",
        "ros = RandomOverSampler(random_state=42)\n",
        "X_train_balanced, y_train_balanced = ros.fit_resample(X_train, y_train)\n",
        "# Hitung bobot kelas\n",
        "class_weights = compute_class_weight('balanced', classes=np.unique(y_train), y=y_train)\n",
        "class_weights = dict(enumerate(class_weights))\n",
        "\n",
        "print(\"Class weights:\", class_weights)\n"
      ],
      "metadata": {
        "colab": {
          "base_uri": "https://localhost:8080/"
        },
        "id": "4i7NShqYJhav",
        "outputId": "aedaf334-2a48-4228-c9d4-f58f82b23010"
      },
      "execution_count": 124,
      "outputs": [
        {
          "output_type": "stream",
          "name": "stdout",
          "text": [
            "Class weights: {0: 5.2820414428242515, 1: 5.415027537372148, 2: 5.462301587301587, 3: 5.3518662519440126, 4: 5.650656814449918, 5: 5.506, 6: 5.45796986518636, 7: 5.364380358534684, 8: 5.286098310291859, 9: 5.475338106603023, 10: 5.44501582278481, 11: 5.586444805194805, 12: 5.265876052027544, 13: 0.08618098946920275}\n"
          ]
        }
      ]
    },
    {
      "cell_type": "code",
      "source": [
        "# Definisikan model\n",
        "zaidan = tf.keras.Sequential([\n",
        "    tf.keras.layers.Reshape((X_train.shape[1], 1), input_shape=(X_train.shape[1],)),  # Reshape data input\n",
        "    tf.keras.layers.Conv1D(32, 3, activation='relu'),  # Layer Conv1D pertama\n",
        "    tf.keras.layers.MaxPooling1D(2),                  # MaxPooling\n",
        "    tf.keras.layers.Conv1D(64, 3, activation='relu'), # Layer Conv1D kedua\n",
        "    tf.keras.layers.MaxPooling1D(2),                  # MaxPooling\n",
        "    tf.keras.layers.Flatten(),                        # Flatten untuk data 1D menjadi 2D\n",
        "    tf.keras.layers.Dense(128, activation='relu'),    # Dense layer dengan 128 neuron\n",
        "    tf.keras.layers.Dropout(0.2),                     # Dropout untuk mengurangi overfitting\n",
        "    tf.keras.layers.Dense(len(np.unique(y_train)), activation='softmax')  # Output layer sesuai jumlah kelas\n",
        "])\n",
        "\n",
        "# Kompilasi model\n",
        "zaidan.compile(\n",
        "    loss='sparse_categorical_crossentropy',  # Karena y_train berbentuk integer skalar\n",
        "    optimizer='adam',\n",
        "    metrics=['accuracy', 'mae', 'mse']\n",
        ")\n",
        "\n",
        "# Lihat ringkasan model\n",
        "zaidan.summary()"
      ],
      "metadata": {
        "id": "EYVuHdJxLlGn",
        "colab": {
          "base_uri": "https://localhost:8080/",
          "height": 485
        },
        "outputId": "16ca43c7-0ff0-4ccf-ac77-5039c4732a24"
      },
      "execution_count": 125,
      "outputs": [
        {
          "output_type": "stream",
          "name": "stderr",
          "text": [
            "/usr/local/lib/python3.10/dist-packages/keras/src/layers/reshaping/reshape.py:39: UserWarning: Do not pass an `input_shape`/`input_dim` argument to a layer. When using Sequential models, prefer using an `Input(shape)` object as the first layer in the model instead.\n",
            "  super().__init__(**kwargs)\n"
          ]
        },
        {
          "output_type": "display_data",
          "data": {
            "text/plain": [
              "\u001b[1mModel: \"sequential_5\"\u001b[0m\n"
            ],
            "text/html": [
              "<pre style=\"white-space:pre;overflow-x:auto;line-height:normal;font-family:Menlo,'DejaVu Sans Mono',consolas,'Courier New',monospace\"><span style=\"font-weight: bold\">Model: \"sequential_5\"</span>\n",
              "</pre>\n"
            ]
          },
          "metadata": {}
        },
        {
          "output_type": "display_data",
          "data": {
            "text/plain": [
              "┏━━━━━━━━━━━━━━━━━━━━━━━━━━━━━━━━━━━━━━┳━━━━━━━━━━━━━━━━━━━━━━━━━━━━━┳━━━━━━━━━━━━━━━━━┓\n",
              "┃\u001b[1m \u001b[0m\u001b[1mLayer (type)                        \u001b[0m\u001b[1m \u001b[0m┃\u001b[1m \u001b[0m\u001b[1mOutput Shape               \u001b[0m\u001b[1m \u001b[0m┃\u001b[1m \u001b[0m\u001b[1m        Param #\u001b[0m\u001b[1m \u001b[0m┃\n",
              "┡━━━━━━━━━━━━━━━━━━━━━━━━━━━━━━━━━━━━━━╇━━━━━━━━━━━━━━━━━━━━━━━━━━━━━╇━━━━━━━━━━━━━━━━━┩\n",
              "│ reshape_5 (\u001b[38;5;33mReshape\u001b[0m)                  │ (\u001b[38;5;45mNone\u001b[0m, \u001b[38;5;34m10\u001b[0m, \u001b[38;5;34m1\u001b[0m)               │               \u001b[38;5;34m0\u001b[0m │\n",
              "├──────────────────────────────────────┼─────────────────────────────┼─────────────────┤\n",
              "│ conv1d_10 (\u001b[38;5;33mConv1D\u001b[0m)                   │ (\u001b[38;5;45mNone\u001b[0m, \u001b[38;5;34m8\u001b[0m, \u001b[38;5;34m32\u001b[0m)               │             \u001b[38;5;34m128\u001b[0m │\n",
              "├──────────────────────────────────────┼─────────────────────────────┼─────────────────┤\n",
              "│ max_pooling1d_10 (\u001b[38;5;33mMaxPooling1D\u001b[0m)      │ (\u001b[38;5;45mNone\u001b[0m, \u001b[38;5;34m4\u001b[0m, \u001b[38;5;34m32\u001b[0m)               │               \u001b[38;5;34m0\u001b[0m │\n",
              "├──────────────────────────────────────┼─────────────────────────────┼─────────────────┤\n",
              "│ conv1d_11 (\u001b[38;5;33mConv1D\u001b[0m)                   │ (\u001b[38;5;45mNone\u001b[0m, \u001b[38;5;34m2\u001b[0m, \u001b[38;5;34m64\u001b[0m)               │           \u001b[38;5;34m6,208\u001b[0m │\n",
              "├──────────────────────────────────────┼─────────────────────────────┼─────────────────┤\n",
              "│ max_pooling1d_11 (\u001b[38;5;33mMaxPooling1D\u001b[0m)      │ (\u001b[38;5;45mNone\u001b[0m, \u001b[38;5;34m1\u001b[0m, \u001b[38;5;34m64\u001b[0m)               │               \u001b[38;5;34m0\u001b[0m │\n",
              "├──────────────────────────────────────┼─────────────────────────────┼─────────────────┤\n",
              "│ flatten_5 (\u001b[38;5;33mFlatten\u001b[0m)                  │ (\u001b[38;5;45mNone\u001b[0m, \u001b[38;5;34m64\u001b[0m)                  │               \u001b[38;5;34m0\u001b[0m │\n",
              "├──────────────────────────────────────┼─────────────────────────────┼─────────────────┤\n",
              "│ dense_10 (\u001b[38;5;33mDense\u001b[0m)                     │ (\u001b[38;5;45mNone\u001b[0m, \u001b[38;5;34m128\u001b[0m)                 │           \u001b[38;5;34m8,320\u001b[0m │\n",
              "├──────────────────────────────────────┼─────────────────────────────┼─────────────────┤\n",
              "│ dropout_5 (\u001b[38;5;33mDropout\u001b[0m)                  │ (\u001b[38;5;45mNone\u001b[0m, \u001b[38;5;34m128\u001b[0m)                 │               \u001b[38;5;34m0\u001b[0m │\n",
              "├──────────────────────────────────────┼─────────────────────────────┼─────────────────┤\n",
              "│ dense_11 (\u001b[38;5;33mDense\u001b[0m)                     │ (\u001b[38;5;45mNone\u001b[0m, \u001b[38;5;34m14\u001b[0m)                  │           \u001b[38;5;34m1,806\u001b[0m │\n",
              "└──────────────────────────────────────┴─────────────────────────────┴─────────────────┘\n"
            ],
            "text/html": [
              "<pre style=\"white-space:pre;overflow-x:auto;line-height:normal;font-family:Menlo,'DejaVu Sans Mono',consolas,'Courier New',monospace\">┏━━━━━━━━━━━━━━━━━━━━━━━━━━━━━━━━━━━━━━┳━━━━━━━━━━━━━━━━━━━━━━━━━━━━━┳━━━━━━━━━━━━━━━━━┓\n",
              "┃<span style=\"font-weight: bold\"> Layer (type)                         </span>┃<span style=\"font-weight: bold\"> Output Shape                </span>┃<span style=\"font-weight: bold\">         Param # </span>┃\n",
              "┡━━━━━━━━━━━━━━━━━━━━━━━━━━━━━━━━━━━━━━╇━━━━━━━━━━━━━━━━━━━━━━━━━━━━━╇━━━━━━━━━━━━━━━━━┩\n",
              "│ reshape_5 (<span style=\"color: #0087ff; text-decoration-color: #0087ff\">Reshape</span>)                  │ (<span style=\"color: #00d7ff; text-decoration-color: #00d7ff\">None</span>, <span style=\"color: #00af00; text-decoration-color: #00af00\">10</span>, <span style=\"color: #00af00; text-decoration-color: #00af00\">1</span>)               │               <span style=\"color: #00af00; text-decoration-color: #00af00\">0</span> │\n",
              "├──────────────────────────────────────┼─────────────────────────────┼─────────────────┤\n",
              "│ conv1d_10 (<span style=\"color: #0087ff; text-decoration-color: #0087ff\">Conv1D</span>)                   │ (<span style=\"color: #00d7ff; text-decoration-color: #00d7ff\">None</span>, <span style=\"color: #00af00; text-decoration-color: #00af00\">8</span>, <span style=\"color: #00af00; text-decoration-color: #00af00\">32</span>)               │             <span style=\"color: #00af00; text-decoration-color: #00af00\">128</span> │\n",
              "├──────────────────────────────────────┼─────────────────────────────┼─────────────────┤\n",
              "│ max_pooling1d_10 (<span style=\"color: #0087ff; text-decoration-color: #0087ff\">MaxPooling1D</span>)      │ (<span style=\"color: #00d7ff; text-decoration-color: #00d7ff\">None</span>, <span style=\"color: #00af00; text-decoration-color: #00af00\">4</span>, <span style=\"color: #00af00; text-decoration-color: #00af00\">32</span>)               │               <span style=\"color: #00af00; text-decoration-color: #00af00\">0</span> │\n",
              "├──────────────────────────────────────┼─────────────────────────────┼─────────────────┤\n",
              "│ conv1d_11 (<span style=\"color: #0087ff; text-decoration-color: #0087ff\">Conv1D</span>)                   │ (<span style=\"color: #00d7ff; text-decoration-color: #00d7ff\">None</span>, <span style=\"color: #00af00; text-decoration-color: #00af00\">2</span>, <span style=\"color: #00af00; text-decoration-color: #00af00\">64</span>)               │           <span style=\"color: #00af00; text-decoration-color: #00af00\">6,208</span> │\n",
              "├──────────────────────────────────────┼─────────────────────────────┼─────────────────┤\n",
              "│ max_pooling1d_11 (<span style=\"color: #0087ff; text-decoration-color: #0087ff\">MaxPooling1D</span>)      │ (<span style=\"color: #00d7ff; text-decoration-color: #00d7ff\">None</span>, <span style=\"color: #00af00; text-decoration-color: #00af00\">1</span>, <span style=\"color: #00af00; text-decoration-color: #00af00\">64</span>)               │               <span style=\"color: #00af00; text-decoration-color: #00af00\">0</span> │\n",
              "├──────────────────────────────────────┼─────────────────────────────┼─────────────────┤\n",
              "│ flatten_5 (<span style=\"color: #0087ff; text-decoration-color: #0087ff\">Flatten</span>)                  │ (<span style=\"color: #00d7ff; text-decoration-color: #00d7ff\">None</span>, <span style=\"color: #00af00; text-decoration-color: #00af00\">64</span>)                  │               <span style=\"color: #00af00; text-decoration-color: #00af00\">0</span> │\n",
              "├──────────────────────────────────────┼─────────────────────────────┼─────────────────┤\n",
              "│ dense_10 (<span style=\"color: #0087ff; text-decoration-color: #0087ff\">Dense</span>)                     │ (<span style=\"color: #00d7ff; text-decoration-color: #00d7ff\">None</span>, <span style=\"color: #00af00; text-decoration-color: #00af00\">128</span>)                 │           <span style=\"color: #00af00; text-decoration-color: #00af00\">8,320</span> │\n",
              "├──────────────────────────────────────┼─────────────────────────────┼─────────────────┤\n",
              "│ dropout_5 (<span style=\"color: #0087ff; text-decoration-color: #0087ff\">Dropout</span>)                  │ (<span style=\"color: #00d7ff; text-decoration-color: #00d7ff\">None</span>, <span style=\"color: #00af00; text-decoration-color: #00af00\">128</span>)                 │               <span style=\"color: #00af00; text-decoration-color: #00af00\">0</span> │\n",
              "├──────────────────────────────────────┼─────────────────────────────┼─────────────────┤\n",
              "│ dense_11 (<span style=\"color: #0087ff; text-decoration-color: #0087ff\">Dense</span>)                     │ (<span style=\"color: #00d7ff; text-decoration-color: #00d7ff\">None</span>, <span style=\"color: #00af00; text-decoration-color: #00af00\">14</span>)                  │           <span style=\"color: #00af00; text-decoration-color: #00af00\">1,806</span> │\n",
              "└──────────────────────────────────────┴─────────────────────────────┴─────────────────┘\n",
              "</pre>\n"
            ]
          },
          "metadata": {}
        },
        {
          "output_type": "display_data",
          "data": {
            "text/plain": [
              "\u001b[1m Total params: \u001b[0m\u001b[38;5;34m16,462\u001b[0m (64.30 KB)\n"
            ],
            "text/html": [
              "<pre style=\"white-space:pre;overflow-x:auto;line-height:normal;font-family:Menlo,'DejaVu Sans Mono',consolas,'Courier New',monospace\"><span style=\"font-weight: bold\"> Total params: </span><span style=\"color: #00af00; text-decoration-color: #00af00\">16,462</span> (64.30 KB)\n",
              "</pre>\n"
            ]
          },
          "metadata": {}
        },
        {
          "output_type": "display_data",
          "data": {
            "text/plain": [
              "\u001b[1m Trainable params: \u001b[0m\u001b[38;5;34m16,462\u001b[0m (64.30 KB)\n"
            ],
            "text/html": [
              "<pre style=\"white-space:pre;overflow-x:auto;line-height:normal;font-family:Menlo,'DejaVu Sans Mono',consolas,'Courier New',monospace\"><span style=\"font-weight: bold\"> Trainable params: </span><span style=\"color: #00af00; text-decoration-color: #00af00\">16,462</span> (64.30 KB)\n",
              "</pre>\n"
            ]
          },
          "metadata": {}
        },
        {
          "output_type": "display_data",
          "data": {
            "text/plain": [
              "\u001b[1m Non-trainable params: \u001b[0m\u001b[38;5;34m0\u001b[0m (0.00 B)\n"
            ],
            "text/html": [
              "<pre style=\"white-space:pre;overflow-x:auto;line-height:normal;font-family:Menlo,'DejaVu Sans Mono',consolas,'Courier New',monospace\"><span style=\"font-weight: bold\"> Non-trainable params: </span><span style=\"color: #00af00; text-decoration-color: #00af00\">0</span> (0.00 B)\n",
              "</pre>\n"
            ]
          },
          "metadata": {}
        }
      ]
    },
    {
      "cell_type": "code",
      "source": [
        "zaidan.compile(\n",
        "    loss='sparse_categorical_crossentropy',\n",
        "    optimizer='adam',\n",
        "    metrics=['accuracy']  # Gunakan hanya akurasi\n",
        ")"
      ],
      "metadata": {
        "id": "0eEZ83CqLVrg"
      },
      "execution_count": 127,
      "outputs": []
    },
    {
      "cell_type": "code",
      "source": [
        "history = zaidan.fit(\n",
        "    X_train,\n",
        "    y_train,\n",
        "    epochs=100,\n",
        "    batch_size=128,\n",
        "    validation_data=(X_val, y_val),\n",
        "    verbose=1\n",
        ")\n"
      ],
      "metadata": {
        "colab": {
          "base_uri": "https://localhost:8080/"
        },
        "id": "ZbEw-zupLc89",
        "outputId": "a5bedacb-bed2-4bbe-d502-132a5078c1c6"
      },
      "execution_count": 129,
      "outputs": [
        {
          "output_type": "stream",
          "name": "stdout",
          "text": [
            "Epoch 1/100\n",
            "\u001b[1m753/753\u001b[0m \u001b[32m━━━━━━━━━━━━━━━━━━━━\u001b[0m\u001b[37m\u001b[0m \u001b[1m5s\u001b[0m 5ms/step - accuracy: 0.8899 - loss: 0.6972 - val_accuracy: 0.9513 - val_loss: 0.1235\n",
            "Epoch 2/100\n",
            "\u001b[1m753/753\u001b[0m \u001b[32m━━━━━━━━━━━━━━━━━━━━\u001b[0m\u001b[37m\u001b[0m \u001b[1m5s\u001b[0m 5ms/step - accuracy: 0.9477 - loss: 0.1285 - val_accuracy: 0.9582 - val_loss: 0.1041\n",
            "Epoch 3/100\n",
            "\u001b[1m753/753\u001b[0m \u001b[32m━━━━━━━━━━━━━━━━━━━━\u001b[0m\u001b[37m\u001b[0m \u001b[1m5s\u001b[0m 7ms/step - accuracy: 0.9559 - loss: 0.1106 - val_accuracy: 0.9647 - val_loss: 0.0950\n",
            "Epoch 4/100\n",
            "\u001b[1m753/753\u001b[0m \u001b[32m━━━━━━━━━━━━━━━━━━━━\u001b[0m\u001b[37m\u001b[0m \u001b[1m3s\u001b[0m 5ms/step - accuracy: 0.9600 - loss: 0.0993 - val_accuracy: 0.9630 - val_loss: 0.0924\n",
            "Epoch 5/100\n",
            "\u001b[1m753/753\u001b[0m \u001b[32m━━━━━━━━━━━━━━━━━━━━\u001b[0m\u001b[37m\u001b[0m \u001b[1m3s\u001b[0m 5ms/step - accuracy: 0.9605 - loss: 0.0958 - val_accuracy: 0.9621 - val_loss: 0.0957\n",
            "Epoch 6/100\n",
            "\u001b[1m753/753\u001b[0m \u001b[32m━━━━━━━━━━━━━━━━━━━━\u001b[0m\u001b[37m\u001b[0m \u001b[1m4s\u001b[0m 6ms/step - accuracy: 0.9620 - loss: 0.0940 - val_accuracy: 0.9662 - val_loss: 0.0873\n",
            "Epoch 7/100\n",
            "\u001b[1m753/753\u001b[0m \u001b[32m━━━━━━━━━━━━━━━━━━━━\u001b[0m\u001b[37m\u001b[0m \u001b[1m4s\u001b[0m 6ms/step - accuracy: 0.9638 - loss: 0.0889 - val_accuracy: 0.9678 - val_loss: 0.0837\n",
            "Epoch 8/100\n",
            "\u001b[1m753/753\u001b[0m \u001b[32m━━━━━━━━━━━━━━━━━━━━\u001b[0m\u001b[37m\u001b[0m \u001b[1m4s\u001b[0m 5ms/step - accuracy: 0.9656 - loss: 0.0853 - val_accuracy: 0.9679 - val_loss: 0.0859\n",
            "Epoch 9/100\n",
            "\u001b[1m753/753\u001b[0m \u001b[32m━━━━━━━━━━━━━━━━━━━━\u001b[0m\u001b[37m\u001b[0m \u001b[1m8s\u001b[0m 8ms/step - accuracy: 0.9663 - loss: 0.0834 - val_accuracy: 0.9672 - val_loss: 0.0817\n",
            "Epoch 10/100\n",
            "\u001b[1m753/753\u001b[0m \u001b[32m━━━━━━━━━━━━━━━━━━━━\u001b[0m\u001b[37m\u001b[0m \u001b[1m8s\u001b[0m 5ms/step - accuracy: 0.9666 - loss: 0.0813 - val_accuracy: 0.9639 - val_loss: 0.0875\n",
            "Epoch 11/100\n",
            "\u001b[1m753/753\u001b[0m \u001b[32m━━━━━━━━━━━━━━━━━━━━\u001b[0m\u001b[37m\u001b[0m \u001b[1m6s\u001b[0m 6ms/step - accuracy: 0.9665 - loss: 0.0812 - val_accuracy: 0.9648 - val_loss: 0.0860\n",
            "Epoch 12/100\n",
            "\u001b[1m753/753\u001b[0m \u001b[32m━━━━━━━━━━━━━━━━━━━━\u001b[0m\u001b[37m\u001b[0m \u001b[1m4s\u001b[0m 5ms/step - accuracy: 0.9681 - loss: 0.0773 - val_accuracy: 0.9672 - val_loss: 0.0810\n",
            "Epoch 13/100\n",
            "\u001b[1m753/753\u001b[0m \u001b[32m━━━━━━━━━━━━━━━━━━━━\u001b[0m\u001b[37m\u001b[0m \u001b[1m4s\u001b[0m 5ms/step - accuracy: 0.9688 - loss: 0.0761 - val_accuracy: 0.9670 - val_loss: 0.0826\n",
            "Epoch 14/100\n",
            "\u001b[1m753/753\u001b[0m \u001b[32m━━━━━━━━━━━━━━━━━━━━\u001b[0m\u001b[37m\u001b[0m \u001b[1m6s\u001b[0m 5ms/step - accuracy: 0.9682 - loss: 0.0775 - val_accuracy: 0.9684 - val_loss: 0.0782\n",
            "Epoch 15/100\n",
            "\u001b[1m753/753\u001b[0m \u001b[32m━━━━━━━━━━━━━━━━━━━━\u001b[0m\u001b[37m\u001b[0m \u001b[1m5s\u001b[0m 6ms/step - accuracy: 0.9691 - loss: 0.0752 - val_accuracy: 0.9663 - val_loss: 0.0834\n",
            "Epoch 16/100\n",
            "\u001b[1m753/753\u001b[0m \u001b[32m━━━━━━━━━━━━━━━━━━━━\u001b[0m\u001b[37m\u001b[0m \u001b[1m4s\u001b[0m 5ms/step - accuracy: 0.9692 - loss: 0.0744 - val_accuracy: 0.9677 - val_loss: 0.0837\n",
            "Epoch 17/100\n",
            "\u001b[1m753/753\u001b[0m \u001b[32m━━━━━━━━━━━━━━━━━━━━\u001b[0m\u001b[37m\u001b[0m \u001b[1m4s\u001b[0m 5ms/step - accuracy: 0.9693 - loss: 0.0729 - val_accuracy: 0.9700 - val_loss: 0.0747\n",
            "Epoch 18/100\n",
            "\u001b[1m753/753\u001b[0m \u001b[32m━━━━━━━━━━━━━━━━━━━━\u001b[0m\u001b[37m\u001b[0m \u001b[1m5s\u001b[0m 7ms/step - accuracy: 0.9706 - loss: 0.0705 - val_accuracy: 0.9694 - val_loss: 0.0768\n",
            "Epoch 19/100\n",
            "\u001b[1m753/753\u001b[0m \u001b[32m━━━━━━━━━━━━━━━━━━━━\u001b[0m\u001b[37m\u001b[0m \u001b[1m8s\u001b[0m 4ms/step - accuracy: 0.9712 - loss: 0.0716 - val_accuracy: 0.9694 - val_loss: 0.0755\n",
            "Epoch 20/100\n",
            "\u001b[1m753/753\u001b[0m \u001b[32m━━━━━━━━━━━━━━━━━━━━\u001b[0m\u001b[37m\u001b[0m \u001b[1m6s\u001b[0m 6ms/step - accuracy: 0.9720 - loss: 0.0686 - val_accuracy: 0.9699 - val_loss: 0.0755\n",
            "Epoch 21/100\n",
            "\u001b[1m753/753\u001b[0m \u001b[32m━━━━━━━━━━━━━━━━━━━━\u001b[0m\u001b[37m\u001b[0m \u001b[1m3s\u001b[0m 4ms/step - accuracy: 0.9720 - loss: 0.0675 - val_accuracy: 0.9696 - val_loss: 0.0738\n",
            "Epoch 22/100\n",
            "\u001b[1m753/753\u001b[0m \u001b[32m━━━━━━━━━━━━━━━━━━━━\u001b[0m\u001b[37m\u001b[0m \u001b[1m5s\u001b[0m 5ms/step - accuracy: 0.9728 - loss: 0.0670 - val_accuracy: 0.9690 - val_loss: 0.0747\n",
            "Epoch 23/100\n",
            "\u001b[1m753/753\u001b[0m \u001b[32m━━━━━━━━━━━━━━━━━━━━\u001b[0m\u001b[37m\u001b[0m \u001b[1m5s\u001b[0m 7ms/step - accuracy: 0.9723 - loss: 0.0661 - val_accuracy: 0.9714 - val_loss: 0.0753\n",
            "Epoch 24/100\n",
            "\u001b[1m753/753\u001b[0m \u001b[32m━━━━━━━━━━━━━━━━━━━━\u001b[0m\u001b[37m\u001b[0m \u001b[1m3s\u001b[0m 5ms/step - accuracy: 0.9730 - loss: 0.0655 - val_accuracy: 0.9706 - val_loss: 0.0723\n",
            "Epoch 25/100\n",
            "\u001b[1m753/753\u001b[0m \u001b[32m━━━━━━━━━━━━━━━━━━━━\u001b[0m\u001b[37m\u001b[0m \u001b[1m3s\u001b[0m 4ms/step - accuracy: 0.9730 - loss: 0.0639 - val_accuracy: 0.9700 - val_loss: 0.0743\n",
            "Epoch 26/100\n",
            "\u001b[1m753/753\u001b[0m \u001b[32m━━━━━━━━━━━━━━━━━━━━\u001b[0m\u001b[37m\u001b[0m \u001b[1m7s\u001b[0m 7ms/step - accuracy: 0.9732 - loss: 0.0655 - val_accuracy: 0.9695 - val_loss: 0.0762\n",
            "Epoch 27/100\n",
            "\u001b[1m753/753\u001b[0m \u001b[32m━━━━━━━━━━━━━━━━━━━━\u001b[0m\u001b[37m\u001b[0m \u001b[1m3s\u001b[0m 4ms/step - accuracy: 0.9741 - loss: 0.0636 - val_accuracy: 0.9696 - val_loss: 0.0748\n",
            "Epoch 28/100\n",
            "\u001b[1m753/753\u001b[0m \u001b[32m━━━━━━━━━━━━━━━━━━━━\u001b[0m\u001b[37m\u001b[0m \u001b[1m5s\u001b[0m 5ms/step - accuracy: 0.9728 - loss: 0.0636 - val_accuracy: 0.9692 - val_loss: 0.0758\n",
            "Epoch 29/100\n",
            "\u001b[1m753/753\u001b[0m \u001b[32m━━━━━━━━━━━━━━━━━━━━\u001b[0m\u001b[37m\u001b[0m \u001b[1m5s\u001b[0m 7ms/step - accuracy: 0.9738 - loss: 0.0623 - val_accuracy: 0.9707 - val_loss: 0.0730\n",
            "Epoch 30/100\n",
            "\u001b[1m753/753\u001b[0m \u001b[32m━━━━━━━━━━━━━━━━━━━━\u001b[0m\u001b[37m\u001b[0m \u001b[1m4s\u001b[0m 5ms/step - accuracy: 0.9746 - loss: 0.0613 - val_accuracy: 0.9712 - val_loss: 0.0720\n",
            "Epoch 31/100\n",
            "\u001b[1m753/753\u001b[0m \u001b[32m━━━━━━━━━━━━━━━━━━━━\u001b[0m\u001b[37m\u001b[0m \u001b[1m4s\u001b[0m 5ms/step - accuracy: 0.9744 - loss: 0.0615 - val_accuracy: 0.9703 - val_loss: 0.0740\n",
            "Epoch 32/100\n",
            "\u001b[1m753/753\u001b[0m \u001b[32m━━━━━━━━━━━━━━━━━━━━\u001b[0m\u001b[37m\u001b[0m \u001b[1m4s\u001b[0m 6ms/step - accuracy: 0.9740 - loss: 0.0611 - val_accuracy: 0.9718 - val_loss: 0.0728\n",
            "Epoch 33/100\n",
            "\u001b[1m753/753\u001b[0m \u001b[32m━━━━━━━━━━━━━━━━━━━━\u001b[0m\u001b[37m\u001b[0m \u001b[1m4s\u001b[0m 6ms/step - accuracy: 0.9742 - loss: 0.0621 - val_accuracy: 0.9689 - val_loss: 0.0749\n",
            "Epoch 34/100\n",
            "\u001b[1m753/753\u001b[0m \u001b[32m━━━━━━━━━━━━━━━━━━━━\u001b[0m\u001b[37m\u001b[0m \u001b[1m3s\u001b[0m 5ms/step - accuracy: 0.9755 - loss: 0.0577 - val_accuracy: 0.9707 - val_loss: 0.0711\n",
            "Epoch 35/100\n",
            "\u001b[1m753/753\u001b[0m \u001b[32m━━━━━━━━━━━━━━━━━━━━\u001b[0m\u001b[37m\u001b[0m \u001b[1m4s\u001b[0m 5ms/step - accuracy: 0.9758 - loss: 0.0584 - val_accuracy: 0.9696 - val_loss: 0.0738\n",
            "Epoch 36/100\n",
            "\u001b[1m753/753\u001b[0m \u001b[32m━━━━━━━━━━━━━━━━━━━━\u001b[0m\u001b[37m\u001b[0m \u001b[1m6s\u001b[0m 7ms/step - accuracy: 0.9755 - loss: 0.0574 - val_accuracy: 0.9723 - val_loss: 0.0711\n",
            "Epoch 37/100\n",
            "\u001b[1m753/753\u001b[0m \u001b[32m━━━━━━━━━━━━━━━━━━━━\u001b[0m\u001b[37m\u001b[0m \u001b[1m4s\u001b[0m 5ms/step - accuracy: 0.9757 - loss: 0.0576 - val_accuracy: 0.9696 - val_loss: 0.0748\n",
            "Epoch 38/100\n",
            "\u001b[1m753/753\u001b[0m \u001b[32m━━━━━━━━━━━━━━━━━━━━\u001b[0m\u001b[37m\u001b[0m \u001b[1m4s\u001b[0m 5ms/step - accuracy: 0.9762 - loss: 0.0565 - val_accuracy: 0.9689 - val_loss: 0.0743\n",
            "Epoch 39/100\n",
            "\u001b[1m753/753\u001b[0m \u001b[32m━━━━━━━━━━━━━━━━━━━━\u001b[0m\u001b[37m\u001b[0m \u001b[1m5s\u001b[0m 7ms/step - accuracy: 0.9766 - loss: 0.0561 - val_accuracy: 0.9713 - val_loss: 0.0713\n",
            "Epoch 40/100\n",
            "\u001b[1m753/753\u001b[0m \u001b[32m━━━━━━━━━━━━━━━━━━━━\u001b[0m\u001b[37m\u001b[0m \u001b[1m9s\u001b[0m 5ms/step - accuracy: 0.9752 - loss: 0.0579 - val_accuracy: 0.9699 - val_loss: 0.0741\n",
            "Epoch 41/100\n",
            "\u001b[1m753/753\u001b[0m \u001b[32m━━━━━━━━━━━━━━━━━━━━\u001b[0m\u001b[37m\u001b[0m \u001b[1m7s\u001b[0m 7ms/step - accuracy: 0.9773 - loss: 0.0542 - val_accuracy: 0.9704 - val_loss: 0.0741\n",
            "Epoch 42/100\n",
            "\u001b[1m753/753\u001b[0m \u001b[32m━━━━━━━━━━━━━━━━━━━━\u001b[0m\u001b[37m\u001b[0m \u001b[1m4s\u001b[0m 5ms/step - accuracy: 0.9768 - loss: 0.0546 - val_accuracy: 0.9719 - val_loss: 0.0706\n",
            "Epoch 43/100\n",
            "\u001b[1m753/753\u001b[0m \u001b[32m━━━━━━━━━━━━━━━━━━━━\u001b[0m\u001b[37m\u001b[0m \u001b[1m5s\u001b[0m 5ms/step - accuracy: 0.9773 - loss: 0.0548 - val_accuracy: 0.9696 - val_loss: 0.0761\n",
            "Epoch 44/100\n",
            "\u001b[1m753/753\u001b[0m \u001b[32m━━━━━━━━━━━━━━━━━━━━\u001b[0m\u001b[37m\u001b[0m \u001b[1m6s\u001b[0m 6ms/step - accuracy: 0.9770 - loss: 0.0544 - val_accuracy: 0.9715 - val_loss: 0.0718\n",
            "Epoch 45/100\n",
            "\u001b[1m753/753\u001b[0m \u001b[32m━━━━━━━━━━━━━━━━━━━━\u001b[0m\u001b[37m\u001b[0m \u001b[1m4s\u001b[0m 5ms/step - accuracy: 0.9770 - loss: 0.0543 - val_accuracy: 0.9718 - val_loss: 0.0728\n",
            "Epoch 46/100\n",
            "\u001b[1m753/753\u001b[0m \u001b[32m━━━━━━━━━━━━━━━━━━━━\u001b[0m\u001b[37m\u001b[0m \u001b[1m4s\u001b[0m 5ms/step - accuracy: 0.9764 - loss: 0.0539 - val_accuracy: 0.9711 - val_loss: 0.0742\n",
            "Epoch 47/100\n",
            "\u001b[1m753/753\u001b[0m \u001b[32m━━━━━━━━━━━━━━━━━━━━\u001b[0m\u001b[37m\u001b[0m \u001b[1m6s\u001b[0m 6ms/step - accuracy: 0.9770 - loss: 0.0549 - val_accuracy: 0.9704 - val_loss: 0.0754\n",
            "Epoch 48/100\n",
            "\u001b[1m753/753\u001b[0m \u001b[32m━━━━━━━━━━━━━━━━━━━━\u001b[0m\u001b[37m\u001b[0m \u001b[1m5s\u001b[0m 7ms/step - accuracy: 0.9779 - loss: 0.0540 - val_accuracy: 0.9702 - val_loss: 0.0747\n",
            "Epoch 49/100\n",
            "\u001b[1m753/753\u001b[0m \u001b[32m━━━━━━━━━━━━━━━━━━━━\u001b[0m\u001b[37m\u001b[0m \u001b[1m8s\u001b[0m 5ms/step - accuracy: 0.9779 - loss: 0.0521 - val_accuracy: 0.9720 - val_loss: 0.0732\n",
            "Epoch 50/100\n",
            "\u001b[1m753/753\u001b[0m \u001b[32m━━━━━━━━━━━━━━━━━━━━\u001b[0m\u001b[37m\u001b[0m \u001b[1m5s\u001b[0m 5ms/step - accuracy: 0.9781 - loss: 0.0515 - val_accuracy: 0.9725 - val_loss: 0.0719\n",
            "Epoch 51/100\n",
            "\u001b[1m753/753\u001b[0m \u001b[32m━━━━━━━━━━━━━━━━━━━━\u001b[0m\u001b[37m\u001b[0m \u001b[1m5s\u001b[0m 7ms/step - accuracy: 0.9783 - loss: 0.0518 - val_accuracy: 0.9720 - val_loss: 0.0727\n",
            "Epoch 52/100\n",
            "\u001b[1m753/753\u001b[0m \u001b[32m━━━━━━━━━━━━━━━━━━━━\u001b[0m\u001b[37m\u001b[0m \u001b[1m9s\u001b[0m 5ms/step - accuracy: 0.9787 - loss: 0.0509 - val_accuracy: 0.9729 - val_loss: 0.0699\n",
            "Epoch 53/100\n",
            "\u001b[1m753/753\u001b[0m \u001b[32m━━━━━━━━━━━━━━━━━━━━\u001b[0m\u001b[37m\u001b[0m \u001b[1m5s\u001b[0m 6ms/step - accuracy: 0.9781 - loss: 0.0505 - val_accuracy: 0.9699 - val_loss: 0.0734\n",
            "Epoch 54/100\n",
            "\u001b[1m753/753\u001b[0m \u001b[32m━━━━━━━━━━━━━━━━━━━━\u001b[0m\u001b[37m\u001b[0m \u001b[1m4s\u001b[0m 5ms/step - accuracy: 0.9785 - loss: 0.0504 - val_accuracy: 0.9714 - val_loss: 0.0777\n",
            "Epoch 55/100\n",
            "\u001b[1m753/753\u001b[0m \u001b[32m━━━━━━━━━━━━━━━━━━━━\u001b[0m\u001b[37m\u001b[0m \u001b[1m5s\u001b[0m 4ms/step - accuracy: 0.9782 - loss: 0.0508 - val_accuracy: 0.9713 - val_loss: 0.0739\n",
            "Epoch 56/100\n",
            "\u001b[1m753/753\u001b[0m \u001b[32m━━━━━━━━━━━━━━━━━━━━\u001b[0m\u001b[37m\u001b[0m \u001b[1m7s\u001b[0m 7ms/step - accuracy: 0.9795 - loss: 0.0480 - val_accuracy: 0.9717 - val_loss: 0.0737\n",
            "Epoch 57/100\n",
            "\u001b[1m753/753\u001b[0m \u001b[32m━━━━━━━━━━━━━━━━━━━━\u001b[0m\u001b[37m\u001b[0m \u001b[1m3s\u001b[0m 5ms/step - accuracy: 0.9789 - loss: 0.0503 - val_accuracy: 0.9729 - val_loss: 0.0738\n",
            "Epoch 58/100\n",
            "\u001b[1m753/753\u001b[0m \u001b[32m━━━━━━━━━━━━━━━━━━━━\u001b[0m\u001b[37m\u001b[0m \u001b[1m5s\u001b[0m 5ms/step - accuracy: 0.9797 - loss: 0.0485 - val_accuracy: 0.9712 - val_loss: 0.0760\n",
            "Epoch 59/100\n",
            "\u001b[1m753/753\u001b[0m \u001b[32m━━━━━━━━━━━━━━━━━━━━\u001b[0m\u001b[37m\u001b[0m \u001b[1m6s\u001b[0m 5ms/step - accuracy: 0.9778 - loss: 0.0512 - val_accuracy: 0.9712 - val_loss: 0.0773\n",
            "Epoch 60/100\n",
            "\u001b[1m753/753\u001b[0m \u001b[32m━━━━━━━━━━━━━━━━━━━━\u001b[0m\u001b[37m\u001b[0m \u001b[1m3s\u001b[0m 4ms/step - accuracy: 0.9794 - loss: 0.0484 - val_accuracy: 0.9712 - val_loss: 0.0732\n",
            "Epoch 61/100\n",
            "\u001b[1m753/753\u001b[0m \u001b[32m━━━━━━━━━━━━━━━━━━━━\u001b[0m\u001b[37m\u001b[0m \u001b[1m6s\u001b[0m 5ms/step - accuracy: 0.9782 - loss: 0.0510 - val_accuracy: 0.9709 - val_loss: 0.0770\n",
            "Epoch 62/100\n",
            "\u001b[1m753/753\u001b[0m \u001b[32m━━━━━━━━━━━━━━━━━━━━\u001b[0m\u001b[37m\u001b[0m \u001b[1m5s\u001b[0m 4ms/step - accuracy: 0.9802 - loss: 0.0477 - val_accuracy: 0.9700 - val_loss: 0.0769\n",
            "Epoch 63/100\n",
            "\u001b[1m753/753\u001b[0m \u001b[32m━━━━━━━━━━━━━━━━━━━━\u001b[0m\u001b[37m\u001b[0m \u001b[1m3s\u001b[0m 4ms/step - accuracy: 0.9785 - loss: 0.0500 - val_accuracy: 0.9721 - val_loss: 0.0764\n",
            "Epoch 64/100\n",
            "\u001b[1m753/753\u001b[0m \u001b[32m━━━━━━━━━━━━━━━━━━━━\u001b[0m\u001b[37m\u001b[0m \u001b[1m3s\u001b[0m 4ms/step - accuracy: 0.9804 - loss: 0.0459 - val_accuracy: 0.9705 - val_loss: 0.0785\n",
            "Epoch 65/100\n",
            "\u001b[1m753/753\u001b[0m \u001b[32m━━━━━━━━━━━━━━━━━━━━\u001b[0m\u001b[37m\u001b[0m \u001b[1m5s\u001b[0m 7ms/step - accuracy: 0.9803 - loss: 0.0456 - val_accuracy: 0.9694 - val_loss: 0.0848\n",
            "Epoch 66/100\n",
            "\u001b[1m753/753\u001b[0m \u001b[32m━━━━━━━━━━━━━━━━━━━━\u001b[0m\u001b[37m\u001b[0m \u001b[1m8s\u001b[0m 5ms/step - accuracy: 0.9799 - loss: 0.0479 - val_accuracy: 0.9725 - val_loss: 0.0717\n",
            "Epoch 67/100\n",
            "\u001b[1m753/753\u001b[0m \u001b[32m━━━━━━━━━━━━━━━━━━━━\u001b[0m\u001b[37m\u001b[0m \u001b[1m5s\u001b[0m 7ms/step - accuracy: 0.9808 - loss: 0.0461 - val_accuracy: 0.9699 - val_loss: 0.0838\n",
            "Epoch 68/100\n",
            "\u001b[1m753/753\u001b[0m \u001b[32m━━━━━━━━━━━━━━━━━━━━\u001b[0m\u001b[37m\u001b[0m \u001b[1m8s\u001b[0m 4ms/step - accuracy: 0.9797 - loss: 0.0467 - val_accuracy: 0.9715 - val_loss: 0.0748\n",
            "Epoch 69/100\n",
            "\u001b[1m753/753\u001b[0m \u001b[32m━━━━━━━━━━━━━━━━━━━━\u001b[0m\u001b[37m\u001b[0m \u001b[1m4s\u001b[0m 6ms/step - accuracy: 0.9796 - loss: 0.0474 - val_accuracy: 0.9709 - val_loss: 0.0812\n",
            "Epoch 70/100\n",
            "\u001b[1m753/753\u001b[0m \u001b[32m━━━━━━━━━━━━━━━━━━━━\u001b[0m\u001b[37m\u001b[0m \u001b[1m4s\u001b[0m 6ms/step - accuracy: 0.9797 - loss: 0.0465 - val_accuracy: 0.9718 - val_loss: 0.0815\n",
            "Epoch 71/100\n",
            "\u001b[1m753/753\u001b[0m \u001b[32m━━━━━━━━━━━━━━━━━━━━\u001b[0m\u001b[37m\u001b[0m \u001b[1m4s\u001b[0m 5ms/step - accuracy: 0.9794 - loss: 0.0469 - val_accuracy: 0.9710 - val_loss: 0.0770\n",
            "Epoch 72/100\n",
            "\u001b[1m753/753\u001b[0m \u001b[32m━━━━━━━━━━━━━━━━━━━━\u001b[0m\u001b[37m\u001b[0m \u001b[1m3s\u001b[0m 5ms/step - accuracy: 0.9804 - loss: 0.0456 - val_accuracy: 0.9703 - val_loss: 0.0812\n",
            "Epoch 73/100\n",
            "\u001b[1m753/753\u001b[0m \u001b[32m━━━━━━━━━━━━━━━━━━━━\u001b[0m\u001b[37m\u001b[0m \u001b[1m5s\u001b[0m 7ms/step - accuracy: 0.9805 - loss: 0.0467 - val_accuracy: 0.9701 - val_loss: 0.0812\n",
            "Epoch 74/100\n",
            "\u001b[1m753/753\u001b[0m \u001b[32m━━━━━━━━━━━━━━━━━━━━\u001b[0m\u001b[37m\u001b[0m \u001b[1m3s\u001b[0m 4ms/step - accuracy: 0.9805 - loss: 0.0470 - val_accuracy: 0.9708 - val_loss: 0.0808\n",
            "Epoch 75/100\n",
            "\u001b[1m753/753\u001b[0m \u001b[32m━━━━━━━━━━━━━━━━━━━━\u001b[0m\u001b[37m\u001b[0m \u001b[1m5s\u001b[0m 5ms/step - accuracy: 0.9812 - loss: 0.0441 - val_accuracy: 0.9707 - val_loss: 0.0793\n",
            "Epoch 76/100\n",
            "\u001b[1m753/753\u001b[0m \u001b[32m━━━━━━━━━━━━━━━━━━━━\u001b[0m\u001b[37m\u001b[0m \u001b[1m5s\u001b[0m 7ms/step - accuracy: 0.9817 - loss: 0.0435 - val_accuracy: 0.9712 - val_loss: 0.0805\n",
            "Epoch 77/100\n",
            "\u001b[1m753/753\u001b[0m \u001b[32m━━━━━━━━━━━━━━━━━━━━\u001b[0m\u001b[37m\u001b[0m \u001b[1m4s\u001b[0m 5ms/step - accuracy: 0.9809 - loss: 0.0448 - val_accuracy: 0.9691 - val_loss: 0.0860\n",
            "Epoch 78/100\n",
            "\u001b[1m753/753\u001b[0m \u001b[32m━━━━━━━━━━━━━━━━━━━━\u001b[0m\u001b[37m\u001b[0m \u001b[1m5s\u001b[0m 5ms/step - accuracy: 0.9820 - loss: 0.0443 - val_accuracy: 0.9726 - val_loss: 0.0768\n",
            "Epoch 79/100\n",
            "\u001b[1m753/753\u001b[0m \u001b[32m━━━━━━━━━━━━━━━━━━━━\u001b[0m\u001b[37m\u001b[0m \u001b[1m5s\u001b[0m 7ms/step - accuracy: 0.9800 - loss: 0.0464 - val_accuracy: 0.9717 - val_loss: 0.0799\n",
            "Epoch 80/100\n",
            "\u001b[1m753/753\u001b[0m \u001b[32m━━━━━━━━━━━━━━━━━━━━\u001b[0m\u001b[37m\u001b[0m \u001b[1m4s\u001b[0m 5ms/step - accuracy: 0.9804 - loss: 0.0455 - val_accuracy: 0.9718 - val_loss: 0.0784\n",
            "Epoch 81/100\n",
            "\u001b[1m753/753\u001b[0m \u001b[32m━━━━━━━━━━━━━━━━━━━━\u001b[0m\u001b[37m\u001b[0m \u001b[1m5s\u001b[0m 5ms/step - accuracy: 0.9821 - loss: 0.0426 - val_accuracy: 0.9709 - val_loss: 0.0814\n",
            "Epoch 82/100\n",
            "\u001b[1m753/753\u001b[0m \u001b[32m━━━━━━━━━━━━━━━━━━━━\u001b[0m\u001b[37m\u001b[0m \u001b[1m6s\u001b[0m 6ms/step - accuracy: 0.9813 - loss: 0.0430 - val_accuracy: 0.9724 - val_loss: 0.0789\n",
            "Epoch 83/100\n",
            "\u001b[1m753/753\u001b[0m \u001b[32m━━━━━━━━━━━━━━━━━━━━\u001b[0m\u001b[37m\u001b[0m \u001b[1m4s\u001b[0m 5ms/step - accuracy: 0.9814 - loss: 0.0438 - val_accuracy: 0.9715 - val_loss: 0.0806\n",
            "Epoch 84/100\n",
            "\u001b[1m753/753\u001b[0m \u001b[32m━━━━━━━━━━━━━━━━━━━━\u001b[0m\u001b[37m\u001b[0m \u001b[1m3s\u001b[0m 5ms/step - accuracy: 0.9823 - loss: 0.0417 - val_accuracy: 0.9714 - val_loss: 0.0807\n",
            "Epoch 85/100\n",
            "\u001b[1m753/753\u001b[0m \u001b[32m━━━━━━━━━━━━━━━━━━━━\u001b[0m\u001b[37m\u001b[0m \u001b[1m7s\u001b[0m 7ms/step - accuracy: 0.9816 - loss: 0.0423 - val_accuracy: 0.9716 - val_loss: 0.0786\n",
            "Epoch 86/100\n",
            "\u001b[1m753/753\u001b[0m \u001b[32m━━━━━━━━━━━━━━━━━━━━\u001b[0m\u001b[37m\u001b[0m \u001b[1m5s\u001b[0m 6ms/step - accuracy: 0.9812 - loss: 0.0428 - val_accuracy: 0.9708 - val_loss: 0.0808\n",
            "Epoch 87/100\n",
            "\u001b[1m753/753\u001b[0m \u001b[32m━━━━━━━━━━━━━━━━━━━━\u001b[0m\u001b[37m\u001b[0m \u001b[1m4s\u001b[0m 5ms/step - accuracy: 0.9826 - loss: 0.0413 - val_accuracy: 0.9725 - val_loss: 0.0811\n",
            "Epoch 88/100\n",
            "\u001b[1m753/753\u001b[0m \u001b[32m━━━━━━━━━━━━━━━━━━━━\u001b[0m\u001b[37m\u001b[0m \u001b[1m5s\u001b[0m 5ms/step - accuracy: 0.9831 - loss: 0.0410 - val_accuracy: 0.9711 - val_loss: 0.0827\n",
            "Epoch 89/100\n",
            "\u001b[1m753/753\u001b[0m \u001b[32m━━━━━━━━━━━━━━━━━━━━\u001b[0m\u001b[37m\u001b[0m \u001b[1m4s\u001b[0m 5ms/step - accuracy: 0.9826 - loss: 0.0403 - val_accuracy: 0.9705 - val_loss: 0.0853\n",
            "Epoch 90/100\n",
            "\u001b[1m753/753\u001b[0m \u001b[32m━━━━━━━━━━━━━━━━━━━━\u001b[0m\u001b[37m\u001b[0m \u001b[1m6s\u001b[0m 6ms/step - accuracy: 0.9821 - loss: 0.0416 - val_accuracy: 0.9710 - val_loss: 0.0810\n",
            "Epoch 91/100\n",
            "\u001b[1m753/753\u001b[0m \u001b[32m━━━━━━━━━━━━━━━━━━━━\u001b[0m\u001b[37m\u001b[0m \u001b[1m4s\u001b[0m 5ms/step - accuracy: 0.9830 - loss: 0.0408 - val_accuracy: 0.9688 - val_loss: 0.0883\n",
            "Epoch 92/100\n",
            "\u001b[1m753/753\u001b[0m \u001b[32m━━━━━━━━━━━━━━━━━━━━\u001b[0m\u001b[37m\u001b[0m \u001b[1m3s\u001b[0m 5ms/step - accuracy: 0.9821 - loss: 0.0426 - val_accuracy: 0.9693 - val_loss: 0.0868\n",
            "Epoch 93/100\n",
            "\u001b[1m753/753\u001b[0m \u001b[32m━━━━━━━━━━━━━━━━━━━━\u001b[0m\u001b[37m\u001b[0m \u001b[1m4s\u001b[0m 5ms/step - accuracy: 0.9818 - loss: 0.0425 - val_accuracy: 0.9702 - val_loss: 0.0865\n",
            "Epoch 94/100\n",
            "\u001b[1m753/753\u001b[0m \u001b[32m━━━━━━━━━━━━━━━━━━━━\u001b[0m\u001b[37m\u001b[0m \u001b[1m5s\u001b[0m 5ms/step - accuracy: 0.9824 - loss: 0.0420 - val_accuracy: 0.9715 - val_loss: 0.0848\n",
            "Epoch 95/100\n",
            "\u001b[1m753/753\u001b[0m \u001b[32m━━━━━━━━━━━━━━━━━━━━\u001b[0m\u001b[37m\u001b[0m \u001b[1m4s\u001b[0m 5ms/step - accuracy: 0.9832 - loss: 0.0393 - val_accuracy: 0.9704 - val_loss: 0.0850\n",
            "Epoch 96/100\n",
            "\u001b[1m753/753\u001b[0m \u001b[32m━━━━━━━━━━━━━━━━━━━━\u001b[0m\u001b[37m\u001b[0m \u001b[1m4s\u001b[0m 5ms/step - accuracy: 0.9825 - loss: 0.0403 - val_accuracy: 0.9708 - val_loss: 0.0848\n",
            "Epoch 97/100\n",
            "\u001b[1m753/753\u001b[0m \u001b[32m━━━━━━━━━━━━━━━━━━━━\u001b[0m\u001b[37m\u001b[0m \u001b[1m5s\u001b[0m 7ms/step - accuracy: 0.9825 - loss: 0.0405 - val_accuracy: 0.9704 - val_loss: 0.0846\n",
            "Epoch 98/100\n",
            "\u001b[1m753/753\u001b[0m \u001b[32m━━━━━━━━━━━━━━━━━━━━\u001b[0m\u001b[37m\u001b[0m \u001b[1m4s\u001b[0m 5ms/step - accuracy: 0.9823 - loss: 0.0421 - val_accuracy: 0.9708 - val_loss: 0.0895\n",
            "Epoch 99/100\n",
            "\u001b[1m753/753\u001b[0m \u001b[32m━━━━━━━━━━━━━━━━━━━━\u001b[0m\u001b[37m\u001b[0m \u001b[1m5s\u001b[0m 5ms/step - accuracy: 0.9833 - loss: 0.0395 - val_accuracy: 0.9693 - val_loss: 0.0867\n",
            "Epoch 100/100\n",
            "\u001b[1m753/753\u001b[0m \u001b[32m━━━━━━━━━━━━━━━━━━━━\u001b[0m\u001b[37m\u001b[0m \u001b[1m5s\u001b[0m 7ms/step - accuracy: 0.9824 - loss: 0.0399 - val_accuracy: 0.9709 - val_loss: 0.0833\n"
          ]
        }
      ]
    },
    {
      "cell_type": "code",
      "source": [
        "# Evaluasi model\n",
        "loss, accuracy = zaidan.evaluate(X_test, y_test, verbose=0)\n",
        "\n",
        "print(f\"Test Loss: {loss:.4f}\")\n",
        "print(f\"Test Accuracy: {accuracy:.4f}\")\n",
        "\n",
        "# Prediksi pada data uji\n",
        "y_pred = zaidan.predict(X_test)\n",
        "y_pred_classes = tf.argmax(y_pred, axis=1).numpy()  # Konversi ke numpy array\n",
        "y_pred_probs = np.max(y_pred, axis=1)\n",
        "\n",
        "# Contoh prediksi\n",
        "print(\"\\nExample Predictions:\")\n",
        "for i in range(20):\n",
        "    print(f\"Sample {i+1}: Predicted Class - {y_pred_classes[i]}, Actual Class - {y_test[i]}, Probability - {y_pred_probs[i]:.4f}\")\n",
        "\n"
      ],
      "metadata": {
        "colab": {
          "base_uri": "https://localhost:8080/"
        },
        "id": "dIzFo3zDP3_I",
        "outputId": "4495d1b7-f2c4-4776-d991-bbaba7a1eaaf"
      },
      "execution_count": 130,
      "outputs": [
        {
          "output_type": "stream",
          "name": "stdout",
          "text": [
            "Test Loss: 0.0921\n",
            "Test Accuracy: 0.9698\n",
            "\u001b[1m377/377\u001b[0m \u001b[32m━━━━━━━━━━━━━━━━━━━━\u001b[0m\u001b[37m\u001b[0m \u001b[1m1s\u001b[0m 1ms/step\n",
            "\n",
            "Example Predictions:\n",
            "Sample 1: Predicted Class - 13, Actual Class - 13, Probability - 1.0000\n",
            "Sample 2: Predicted Class - 13, Actual Class - 13, Probability - 1.0000\n",
            "Sample 3: Predicted Class - 13, Actual Class - 13, Probability - 1.0000\n",
            "Sample 4: Predicted Class - 13, Actual Class - 13, Probability - 1.0000\n",
            "Sample 5: Predicted Class - 13, Actual Class - 13, Probability - 1.0000\n",
            "Sample 6: Predicted Class - 13, Actual Class - 13, Probability - 1.0000\n",
            "Sample 7: Predicted Class - 13, Actual Class - 13, Probability - 1.0000\n",
            "Sample 8: Predicted Class - 13, Actual Class - 13, Probability - 1.0000\n",
            "Sample 9: Predicted Class - 13, Actual Class - 13, Probability - 1.0000\n",
            "Sample 10: Predicted Class - 9, Actual Class - 9, Probability - 1.0000\n",
            "Sample 11: Predicted Class - 13, Actual Class - 13, Probability - 1.0000\n",
            "Sample 12: Predicted Class - 13, Actual Class - 13, Probability - 1.0000\n",
            "Sample 13: Predicted Class - 13, Actual Class - 13, Probability - 1.0000\n",
            "Sample 14: Predicted Class - 13, Actual Class - 13, Probability - 1.0000\n",
            "Sample 15: Predicted Class - 13, Actual Class - 13, Probability - 1.0000\n",
            "Sample 16: Predicted Class - 13, Actual Class - 13, Probability - 1.0000\n",
            "Sample 17: Predicted Class - 13, Actual Class - 13, Probability - 1.0000\n",
            "Sample 18: Predicted Class - 13, Actual Class - 13, Probability - 1.0000\n",
            "Sample 19: Predicted Class - 13, Actual Class - 13, Probability - 1.0000\n",
            "Sample 20: Predicted Class - 13, Actual Class - 13, Probability - 1.0000\n"
          ]
        }
      ]
    },
    {
      "cell_type": "code",
      "source": [
        "from tensorflow.keras.models import save_model\n",
        "from google.colab import files\n",
        "\n",
        "# Simpan model ke penyimpanan sementara Colab\n",
        "model_path = \"zaidan_model.keras\"\n",
        "zaidan.save(model_path)\n",
        "\n",
        "# Download file model\n",
        "files.download(model_path)\n"
      ],
      "metadata": {
        "colab": {
          "base_uri": "https://localhost:8080/",
          "height": 17
        },
        "id": "Zdakjrs-SCqW",
        "outputId": "da7d69c2-87c3-4ba1-be82-422a59303e0d"
      },
      "execution_count": 131,
      "outputs": [
        {
          "output_type": "display_data",
          "data": {
            "text/plain": [
              "<IPython.core.display.Javascript object>"
            ],
            "application/javascript": [
              "\n",
              "    async function download(id, filename, size) {\n",
              "      if (!google.colab.kernel.accessAllowed) {\n",
              "        return;\n",
              "      }\n",
              "      const div = document.createElement('div');\n",
              "      const label = document.createElement('label');\n",
              "      label.textContent = `Downloading \"${filename}\": `;\n",
              "      div.appendChild(label);\n",
              "      const progress = document.createElement('progress');\n",
              "      progress.max = size;\n",
              "      div.appendChild(progress);\n",
              "      document.body.appendChild(div);\n",
              "\n",
              "      const buffers = [];\n",
              "      let downloaded = 0;\n",
              "\n",
              "      const channel = await google.colab.kernel.comms.open(id);\n",
              "      // Send a message to notify the kernel that we're ready.\n",
              "      channel.send({})\n",
              "\n",
              "      for await (const message of channel.messages) {\n",
              "        // Send a message to notify the kernel that we're ready.\n",
              "        channel.send({})\n",
              "        if (message.buffers) {\n",
              "          for (const buffer of message.buffers) {\n",
              "            buffers.push(buffer);\n",
              "            downloaded += buffer.byteLength;\n",
              "            progress.value = downloaded;\n",
              "          }\n",
              "        }\n",
              "      }\n",
              "      const blob = new Blob(buffers, {type: 'application/binary'});\n",
              "      const a = document.createElement('a');\n",
              "      a.href = window.URL.createObjectURL(blob);\n",
              "      a.download = filename;\n",
              "      div.appendChild(a);\n",
              "      a.click();\n",
              "      div.remove();\n",
              "    }\n",
              "  "
            ]
          },
          "metadata": {}
        },
        {
          "output_type": "display_data",
          "data": {
            "text/plain": [
              "<IPython.core.display.Javascript object>"
            ],
            "application/javascript": [
              "download(\"download_3bab61b8-1828-4ec9-938b-ec036f01d160\", \"zaidan_model.keras\", 234529)"
            ]
          },
          "metadata": {}
        }
      ]
    }
  ]
}